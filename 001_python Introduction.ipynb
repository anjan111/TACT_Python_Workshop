{
 "cells": [
  {
   "cell_type": "markdown",
   "metadata": {},
   "source": [
    "#### Python features \n",
    "\n",
    "===>>  Free\n",
    "\n",
    "===>> Open sourse --->  any one can modify\n",
    "\n",
    "===>>  We don't any Programming Language knowledge\n",
    "\n",
    "===>>  Simple  / easy\n",
    "\n",
    "===>>   C  ----> SOP ( structure oriented Programming Language )  ---> Python\n",
    "\n",
    "===>>   C++   -->  OOP ( Poly , inhi)   ---> Python\n",
    "\n",
    "===>>  Java   --> Platform Independed ( Any OS )  ---> Python\n",
    "\n",
    "===>>  Perl   ---> Interpreted  ( S/w  --> ( line by line ) --> obj ---> out    ===> Python\n",
    "\n",
    "===>> R , Matlab , Spark , Scala , SAS , .net \n",
    "\n",
    "===>> Scripting PL       ( S/w   --->> (obj + exe ) line by line   ---> out )\n",
    "\n",
    "===>> Dynamic PL        ( s/w  -----> run  ----->  out  )\n",
    "\n",
    "===>> General Purpose PL\n"
   ]
  },
  {
   "cell_type": "code",
   "execution_count": 2,
   "metadata": {},
   "outputs": [
    {
     "name": "stdout",
     "output_type": "stream",
     "text": [
      "Hello\n",
      "Hai\n"
     ]
    }
   ],
   "source": [
    "# Polymorpshim   ---> A same method can do multiple task\n",
    "class Class1():\n",
    "    def poly(self):\n",
    "        print \"Hello\"\n",
    "class Class2():\n",
    "    def poly(self):\n",
    "        print \"Hai\"\n",
    "        \n",
    "obj1 = Class1()\n",
    "obj2  = Class2()\n",
    "obj1.poly()\n",
    "obj2.poly()\n"
   ]
  },
  {
   "cell_type": "markdown",
   "metadata": {},
   "source": [
    "#### Python Applications \n",
    "\n",
    "===>> Machine Learning \n",
    "\n",
    "===>> Deep Learning \n",
    "\n",
    "===>> Artificial Intelligence \n",
    "\n",
    "===>> Data Science \n",
    "\n",
    "===>> NLP\n",
    "\n",
    "===>> Web application\n",
    "\n",
    "===>> Mobile Application\n",
    "\n",
    "===>> Desktop Application\n",
    "\n",
    "===>> Gaming application\n",
    "\n",
    "===>> Automation for  Testing \n",
    "\n",
    "===>> networking automation\n",
    "\n",
    "===>> Data Base automation\n",
    "\n",
    "===>> Robotics  / VLSI  / IOT  \n",
    "\n",
    "===>> Cloud automation"
   ]
  },
  {
   "cell_type": "code",
   "execution_count": null,
   "metadata": {},
   "outputs": [],
   "source": []
  }
 ],
 "metadata": {
  "kernelspec": {
   "display_name": "Python 2",
   "language": "python",
   "name": "python2"
  },
  "language_info": {
   "codemirror_mode": {
    "name": "ipython",
    "version": 2
   },
   "file_extension": ".py",
   "mimetype": "text/x-python",
   "name": "python",
   "nbconvert_exporter": "python",
   "pygments_lexer": "ipython2",
   "version": "2.7.16"
  }
 },
 "nbformat": 4,
 "nbformat_minor": 2
}
