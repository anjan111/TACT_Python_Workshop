{
 "cells": [
  {
   "cell_type": "markdown",
   "metadata": {},
   "source": [
    "### File \n",
    "\n",
    "===>>> File is a  data container  ( related data )\n",
    "\n",
    "===>>> Files are the storage device ( part of the storage)\n",
    "\n",
    "### Types Of Files\n",
    "\n",
    "1. Binary Files \n",
    "\n",
    "==>> A file which contains the binary data ( 0,1)\n",
    "\n",
    "==>> Its not easy to write & Its not easy to read\n",
    "\n",
    "==>> Examples\n",
    "\n",
    "        1. video files\n",
    "        \n",
    "        2. image files\n",
    "        \n",
    "        3. executables\n",
    "        \n",
    "2. Text Files\n",
    "\n",
    "==>> A file which contains the alphanumarical Data \n",
    "\n",
    "==>> Its easy to write and read\n",
    "\n",
    "==>> Examples\n",
    "\n",
    "        1. .txt ,  .doc  , .ppts\n",
    "        \n",
    "\n",
    "### File Operations\n",
    "\n",
    "==>> creates the file\n",
    "\n",
    "==>> opening the file\n",
    "\n",
    "==>> reading the data from file\n",
    "\n",
    "==>> writing the data into the file\n",
    "\n",
    "==>> closing the file\n",
    "\n",
    "### Python  File Handling \n",
    "\n",
    "===>> with help of python PL  we can do the file operation\n",
    "\n",
    "===>> If we want to do the file operations we have to create a file object\n",
    "\n",
    "===>> FILE is a class which contains the all file operational Methods \n",
    "\n",
    "===>> open() is used for to create file object\n",
    "\n",
    "#### syntax \n",
    "\n",
    "file_obj  =  open(\"file name with path\",\" mode\")\n",
    "\n",
    "===>> with help file object we can use all file operaational methods \n",
    "\n",
    "1. write()\n",
    "\n",
    "2. read()\n",
    "\n",
    "3. readline()\n",
    "\n",
    "4. readlines()\n",
    "\n",
    "5. tell()\n",
    "\n",
    "6. seek()\n",
    "\n",
    "7. close()\n",
    "\n",
    "#### Modes \n",
    "\n",
    "1. write( w/ w+)\n",
    "\n",
    "===>> file is not existed then create new file \n",
    "\n",
    "===>> file is existed with some data then open file  and we can lost daata\n",
    "\n",
    "\n",
    "2. append ( a / a+)\n",
    "\n",
    "===>> file is not existed then create new file \n",
    "\n",
    "===>> file is existed with some data then open file  and  the data can safe\n",
    "\n",
    "3. read ( r / r+ )\n",
    "\n",
    "===>> file is not existed then its an error\n",
    "\n",
    "===>> file is existed with some data then open file  and  data can be safe"
   ]
  },
  {
   "cell_type": "code",
   "execution_count": 1,
   "metadata": {},
   "outputs": [],
   "source": [
    "# write mode  w    , w+\n",
    "\n",
    "fo = open(\"sample.txt\",\"w\") # file is not existed  then create a sample.txt file\n",
    "fo.close()\n",
    "fo1 = open(\"sample1.txt\",\"w+\") # file is not existed  then create a sample.txt file\n",
    "fo1.close()"
   ]
  },
  {
   "cell_type": "code",
   "execution_count": 2,
   "metadata": {},
   "outputs": [],
   "source": [
    "# write mode  w    , w+\n",
    "\n",
    "fo = open(\"sample.txt\",\"w\") # file is existed with some daata then file is opend and data lost\n",
    "fo.close()\n",
    "fo1 = open(\"sample1.txt\",\"w+\") # file is existed with some daata then file is opend and data lost\n",
    "fo1.close()"
   ]
  },
  {
   "cell_type": "code",
   "execution_count": 3,
   "metadata": {},
   "outputs": [
    {
     "name": "stdout",
     "output_type": "stream",
     "text": [
      "enter ddata : \"anjan kumar\"\n",
      "writing into the file\n",
      "daata is written over\n"
     ]
    }
   ],
   "source": [
    "# write mode  w    , w+\n",
    "\n",
    "fo = open(\"sample.txt\",\"w\") # file is existed with some daata then file is opend and data lost\n",
    "data = input(\"enter ddata : \")\n",
    "print \"writing into the file\"\n",
    "fo.write(data)\n",
    "print \"daata is written over\"\n",
    "fo.close()\n"
   ]
  },
  {
   "cell_type": "code",
   "execution_count": 4,
   "metadata": {},
   "outputs": [
    {
     "name": "stdout",
     "output_type": "stream",
     "text": [
      "enter ddata : \"345678\"\n",
      "writing into the file\n",
      "daata is written over\n"
     ]
    },
    {
     "ename": "IOError",
     "evalue": "File not open for reading",
     "output_type": "error",
     "traceback": [
      "\u001b[1;31m\u001b[0m",
      "\u001b[1;31mIOError\u001b[0mTraceback (most recent call last)",
      "\u001b[1;32m<ipython-input-4-65df483636b3>\u001b[0m in \u001b[0;36m<module>\u001b[1;34m()\u001b[0m\n\u001b[0;32m      7\u001b[0m \u001b[1;32mprint\u001b[0m \u001b[1;34m\"daata is written over\"\u001b[0m\u001b[1;33m\u001b[0m\u001b[0m\n\u001b[0;32m      8\u001b[0m \u001b[0mfo\u001b[0m\u001b[1;33m.\u001b[0m\u001b[0mseek\u001b[0m\u001b[1;33m(\u001b[0m\u001b[1;36m0\u001b[0m\u001b[1;33m,\u001b[0m\u001b[1;36m0\u001b[0m\u001b[1;33m)\u001b[0m\u001b[1;31m# BOF\u001b[0m\u001b[1;33m\u001b[0m\u001b[0m\n\u001b[1;32m----> 9\u001b[1;33m \u001b[0mfo\u001b[0m\u001b[1;33m.\u001b[0m\u001b[0mread\u001b[0m\u001b[1;33m(\u001b[0m\u001b[1;33m)\u001b[0m\u001b[1;33m\u001b[0m\u001b[0m\n\u001b[0m\u001b[0;32m     10\u001b[0m \u001b[0mfo\u001b[0m\u001b[1;33m.\u001b[0m\u001b[0mclose\u001b[0m\u001b[1;33m(\u001b[0m\u001b[1;33m)\u001b[0m\u001b[1;33m\u001b[0m\u001b[0m\n",
      "\u001b[1;31mIOError\u001b[0m: File not open for reading"
     ]
    }
   ],
   "source": [
    "# write mode  w    , w+\n",
    "\n",
    "#### w ---> only for writting \n",
    "\n",
    "fo = open(\"sample.txt\",\"w\") # file is existed with some daata then file is opend and data lost\n",
    "data = input(\"enter ddata : \")\n",
    "print \"writing into the file\"\n",
    "fo.write(data)\n",
    "print \"daata is written over\"\n",
    "fo.seek(0,0)# BOF\n",
    "fo.read()\n",
    "fo.close()\n"
   ]
  },
  {
   "cell_type": "code",
   "execution_count": 5,
   "metadata": {},
   "outputs": [
    {
     "name": "stdout",
     "output_type": "stream",
     "text": [
      "enter ddata : \"anjan kumar 245\"\n",
      "writing into the file\n",
      "daata is written over\n",
      "data reading \n",
      "anjan kumar 245\n"
     ]
    }
   ],
   "source": [
    "# write mode  w    , w+\n",
    "\n",
    "#### w+ --->both read =ing   and writing \n",
    "\n",
    "fo = open(\"sample.txt\",\"w+\") # file is existed with some daata then file is opend and data lost\n",
    "data = input(\"enter ddata : \")\n",
    "print \"writing into the file\"\n",
    "fo.write(data)\n",
    "print \"daata is written over\"\n",
    "print \"data reading \"\n",
    "fo.seek(0,0)# BOF\n",
    "print fo.read()\n",
    "fo.close()\n"
   ]
  },
  {
   "cell_type": "code",
   "execution_count": 6,
   "metadata": {},
   "outputs": [],
   "source": [
    "# append mode  a    , a+\n",
    "\n",
    "fo = open(\"sample2.txt\",\"a\") # file is not existed  then create a sample2.txt file\n",
    "fo.close()\n",
    "fo1 = open(\"sample3.txt\",\"a+\") # file is not existed  then create a sample3.txt file\n",
    "fo1.close()"
   ]
  },
  {
   "cell_type": "code",
   "execution_count": 7,
   "metadata": {},
   "outputs": [],
   "source": [
    "# append mode  a    , a+\n",
    "\n",
    "fo = open(\"sample2.txt\",\"a\") # file is  existed  then open the file and  data can be safe\n",
    "fo.close()\n",
    "fo1 = open(\"sample3.txt\",\"a+\") # file is  existed  then open the file and  data can be safe\n",
    "fo1.close()"
   ]
  },
  {
   "cell_type": "code",
   "execution_count": 8,
   "metadata": {},
   "outputs": [
    {
     "name": "stdout",
     "output_type": "stream",
     "text": [
      "enter some data : \"anjan kumar22324324\"\n"
     ]
    },
    {
     "ename": "IOError",
     "evalue": "File not open for reading",
     "output_type": "error",
     "traceback": [
      "\u001b[1;31m\u001b[0m",
      "\u001b[1;31mIOError\u001b[0mTraceback (most recent call last)",
      "\u001b[1;32m<ipython-input-8-a771aaa21179>\u001b[0m in \u001b[0;36m<module>\u001b[1;34m()\u001b[0m\n\u001b[0;32m      6\u001b[0m \u001b[0mfo\u001b[0m\u001b[1;33m.\u001b[0m\u001b[0mwrite\u001b[0m\u001b[1;33m(\u001b[0m\u001b[0mdata\u001b[0m\u001b[1;33m)\u001b[0m\u001b[1;31m# write at end of the  file\u001b[0m\u001b[1;33m\u001b[0m\u001b[0m\n\u001b[0;32m      7\u001b[0m \u001b[0mfo\u001b[0m\u001b[1;33m.\u001b[0m\u001b[0mseek\u001b[0m\u001b[1;33m(\u001b[0m\u001b[1;36m0\u001b[0m\u001b[1;33m,\u001b[0m\u001b[1;36m0\u001b[0m\u001b[1;33m)\u001b[0m\u001b[1;33m\u001b[0m\u001b[0m\n\u001b[1;32m----> 8\u001b[1;33m \u001b[1;32mprint\u001b[0m \u001b[0mfo\u001b[0m\u001b[1;33m.\u001b[0m\u001b[0mread\u001b[0m\u001b[1;33m(\u001b[0m\u001b[1;33m)\u001b[0m\u001b[1;33m\u001b[0m\u001b[0m\n\u001b[0m\u001b[0;32m      9\u001b[0m \u001b[0mfo\u001b[0m\u001b[1;33m.\u001b[0m\u001b[0mclose\u001b[0m\u001b[1;33m(\u001b[0m\u001b[1;33m)\u001b[0m\u001b[1;33m\u001b[0m\u001b[0m\n",
      "\u001b[1;31mIOError\u001b[0m: File not open for reading"
     ]
    }
   ],
   "source": [
    "# append mode  a    , a+\n",
    "# a ---> only for writting \n",
    "\n",
    "fo = open(\"sample2.txt\",\"a\") # file is not existed  then create a sample2.txt file\n",
    "data = input(\"enter some data : \")\n",
    "fo.write(data)# write at end of the  file\n",
    "fo.seek(0,0)\n",
    "print fo.read()\n",
    "fo.close()"
   ]
  },
  {
   "cell_type": "code",
   "execution_count": 9,
   "metadata": {},
   "outputs": [
    {
     "name": "stdout",
     "output_type": "stream",
     "text": [
      "enter some data : \"677777 9090\"\n",
      "anjananjan kumar22324324677777 9090\n"
     ]
    }
   ],
   "source": [
    "# append mode  a    , a+\n",
    "# a+ ---> write + read\n",
    "\n",
    "fo = open(\"sample2.txt\",\"a+\") # file is not existed  then create a sample2.txt file\n",
    "data = input(\"enter some data : \")\n",
    "fo.write(data)# write at end of the  file\n",
    "fo.seek(0,0)\n",
    "print fo.read()\n",
    "fo.close()"
   ]
  },
  {
   "cell_type": "code",
   "execution_count": 11,
   "metadata": {},
   "outputs": [
    {
     "name": "stdout",
     "output_type": "stream",
     "text": [
      "anjananjan kumar22324324677777 9090\n",
      "kumar\n",
      "kumar\n"
     ]
    }
   ],
   "source": [
    "# read mode  r    , r+\n",
    "\n",
    "fo = open(\"sample2.txt\") # file is  existed  then open the file and  data can be safe\n",
    "print fo.read()\n",
    "fo.close()\n",
    "\n",
    "fo1 = open(\"sample3.txt\",\"r\") # file is  existed  then open the file and  data can be safe\n",
    "print fo1.read()\n",
    "fo1.close()\n",
    "fo1 = open(\"sample3.txt\",\"r+\") # file is  existed  then open the file and  data can be safe\n",
    "print fo1.read()\n",
    "fo1.close()"
   ]
  },
  {
   "cell_type": "code",
   "execution_count": 12,
   "metadata": {},
   "outputs": [
    {
     "ename": "IOError",
     "evalue": "[Errno 2] No such file or directory: 'sample5.txt'",
     "output_type": "error",
     "traceback": [
      "\u001b[1;31m\u001b[0m",
      "\u001b[1;31mIOError\u001b[0mTraceback (most recent call last)",
      "\u001b[1;32m<ipython-input-12-a3a8bbe1170e>\u001b[0m in \u001b[0;36m<module>\u001b[1;34m()\u001b[0m\n\u001b[1;32m----> 1\u001b[1;33m \u001b[0mfo1\u001b[0m \u001b[1;33m=\u001b[0m \u001b[0mopen\u001b[0m\u001b[1;33m(\u001b[0m\u001b[1;34m\"sample5.txt\"\u001b[0m\u001b[1;33m,\u001b[0m\u001b[1;34m\"r\"\u001b[0m\u001b[1;33m)\u001b[0m \u001b[1;31m# file is  existed  then open the file and  data can be safe\u001b[0m\u001b[1;33m\u001b[0m\u001b[0m\n\u001b[0m\u001b[0;32m      2\u001b[0m \u001b[1;32mprint\u001b[0m \u001b[0mfo\u001b[0m\u001b[1;33m.\u001b[0m\u001b[0mread\u001b[0m\u001b[1;33m(\u001b[0m\u001b[1;33m)\u001b[0m\u001b[1;33m\u001b[0m\u001b[0m\n\u001b[0;32m      3\u001b[0m \u001b[0mfo1\u001b[0m\u001b[1;33m.\u001b[0m\u001b[0mclose\u001b[0m\u001b[1;33m(\u001b[0m\u001b[1;33m)\u001b[0m\u001b[1;33m\u001b[0m\u001b[0m\n",
      "\u001b[1;31mIOError\u001b[0m: [Errno 2] No such file or directory: 'sample5.txt'"
     ]
    }
   ],
   "source": [
    "fo1 = open(\"sample5.txt\",\"r\") # file is  existed  then open the file and  data can be safe\n",
    "print fo.read()\n",
    "fo1.close()"
   ]
  },
  {
   "cell_type": "code",
   "execution_count": 13,
   "metadata": {},
   "outputs": [
    {
     "ename": "IOError",
     "evalue": "[Errno 2] No such file or directory: 'sample5.txt'",
     "output_type": "error",
     "traceback": [
      "\u001b[1;31m\u001b[0m",
      "\u001b[1;31mIOError\u001b[0mTraceback (most recent call last)",
      "\u001b[1;32m<ipython-input-13-c3f0b7687325>\u001b[0m in \u001b[0;36m<module>\u001b[1;34m()\u001b[0m\n\u001b[1;32m----> 1\u001b[1;33m \u001b[0mfo1\u001b[0m \u001b[1;33m=\u001b[0m \u001b[0mopen\u001b[0m\u001b[1;33m(\u001b[0m\u001b[1;34m\"sample5.txt\"\u001b[0m\u001b[1;33m,\u001b[0m\u001b[1;34m\"r+\"\u001b[0m\u001b[1;33m)\u001b[0m \u001b[1;31m# file is  existed  then open the file and  data can be safe\u001b[0m\u001b[1;33m\u001b[0m\u001b[0m\n\u001b[0m\u001b[0;32m      2\u001b[0m \u001b[1;32mprint\u001b[0m \u001b[0mfo\u001b[0m\u001b[1;33m.\u001b[0m\u001b[0mread\u001b[0m\u001b[1;33m(\u001b[0m\u001b[1;33m)\u001b[0m\u001b[1;33m\u001b[0m\u001b[0m\n\u001b[0;32m      3\u001b[0m \u001b[0mfo1\u001b[0m\u001b[1;33m.\u001b[0m\u001b[0mclose\u001b[0m\u001b[1;33m(\u001b[0m\u001b[1;33m)\u001b[0m\u001b[1;33m\u001b[0m\u001b[0m\n",
      "\u001b[1;31mIOError\u001b[0m: [Errno 2] No such file or directory: 'sample5.txt'"
     ]
    }
   ],
   "source": [
    "fo1 = open(\"sample5.txt\",\"r+\") # file is  existed  then open the file and  data can be safe\n",
    "print fo.read()\n",
    "fo1.close()"
   ]
  },
  {
   "cell_type": "code",
   "execution_count": 16,
   "metadata": {},
   "outputs": [
    {
     "name": "stdout",
     "output_type": "stream",
     "text": [
      "kumar\n"
     ]
    },
    {
     "ename": "IOError",
     "evalue": "File not open for writing",
     "output_type": "error",
     "traceback": [
      "\u001b[1;31m\u001b[0m",
      "\u001b[1;31mIOError\u001b[0mTraceback (most recent call last)",
      "\u001b[1;32m<ipython-input-16-24d22b9bf545>\u001b[0m in \u001b[0;36m<module>\u001b[1;34m()\u001b[0m\n\u001b[0;32m      2\u001b[0m \u001b[0mfo1\u001b[0m \u001b[1;33m=\u001b[0m \u001b[0mopen\u001b[0m\u001b[1;33m(\u001b[0m\u001b[1;34m\"sample3.txt\"\u001b[0m\u001b[1;33m,\u001b[0m\u001b[1;34m\"r\"\u001b[0m\u001b[1;33m)\u001b[0m \u001b[1;31m# file is  existed  then open the file and  data can be safe\u001b[0m\u001b[1;33m\u001b[0m\u001b[0m\n\u001b[0;32m      3\u001b[0m \u001b[1;32mprint\u001b[0m \u001b[0mfo1\u001b[0m\u001b[1;33m.\u001b[0m\u001b[0mread\u001b[0m\u001b[1;33m(\u001b[0m\u001b[1;33m)\u001b[0m\u001b[1;33m\u001b[0m\u001b[0m\n\u001b[1;32m----> 4\u001b[1;33m \u001b[0mfo1\u001b[0m\u001b[1;33m.\u001b[0m\u001b[0mwrite\u001b[0m\u001b[1;33m(\u001b[0m\u001b[1;34m\"kdkhshfjkd\"\u001b[0m\u001b[1;33m)\u001b[0m\u001b[1;33m\u001b[0m\u001b[0m\n\u001b[0m\u001b[0;32m      5\u001b[0m \u001b[0mfo1\u001b[0m\u001b[1;33m.\u001b[0m\u001b[0mclose\u001b[0m\u001b[1;33m(\u001b[0m\u001b[1;33m)\u001b[0m\u001b[1;33m\u001b[0m\u001b[0m\n",
      "\u001b[1;31mIOError\u001b[0m: File not open for writing"
     ]
    }
   ],
   "source": [
    "# r ---> only for reading \n",
    "fo1 = open(\"sample3.txt\",\"r\") # file is  existed  then open the file and  data can be safe\n",
    "print fo1.read()\n",
    "fo1.write(\"kdkhshfjkd\")\n",
    "fo1.close()"
   ]
  },
  {
   "cell_type": "code",
   "execution_count": 18,
   "metadata": {},
   "outputs": [
    {
     "name": "stdout",
     "output_type": "stream",
     "text": [
      "kumar\n"
     ]
    },
    {
     "ename": "IOError",
     "evalue": "[Errno 0] Error",
     "output_type": "error",
     "traceback": [
      "\u001b[1;31m\u001b[0m",
      "\u001b[1;31mIOError\u001b[0mTraceback (most recent call last)",
      "\u001b[1;32m<ipython-input-18-adaf4266a9ee>\u001b[0m in \u001b[0;36m<module>\u001b[1;34m()\u001b[0m\n\u001b[0;32m      2\u001b[0m \u001b[0mfo\u001b[0m \u001b[1;33m=\u001b[0m \u001b[0mopen\u001b[0m\u001b[1;33m(\u001b[0m\u001b[1;34m\"sample3.txt\"\u001b[0m\u001b[1;33m,\u001b[0m\u001b[1;34m\"r+\"\u001b[0m\u001b[1;33m)\u001b[0m \u001b[1;31m# file is  existed  then open the file and  data can be safe\u001b[0m\u001b[1;33m\u001b[0m\u001b[0m\n\u001b[0;32m      3\u001b[0m \u001b[1;32mprint\u001b[0m \u001b[0mfo\u001b[0m\u001b[1;33m.\u001b[0m\u001b[0mread\u001b[0m\u001b[1;33m(\u001b[0m\u001b[1;33m)\u001b[0m\u001b[1;33m\u001b[0m\u001b[0m\n\u001b[1;32m----> 4\u001b[1;33m \u001b[0mfo\u001b[0m\u001b[1;33m.\u001b[0m\u001b[0mwrite\u001b[0m\u001b[1;33m(\u001b[0m\u001b[1;34m\" anjan\"\u001b[0m\u001b[1;33m)\u001b[0m\u001b[1;33m\u001b[0m\u001b[0m\n\u001b[0m\u001b[0;32m      5\u001b[0m \u001b[0mfo\u001b[0m\u001b[1;33m.\u001b[0m\u001b[0mseek\u001b[0m\u001b[1;33m(\u001b[0m\u001b[1;36m0\u001b[0m\u001b[1;33m,\u001b[0m\u001b[1;36m0\u001b[0m\u001b[1;33m)\u001b[0m\u001b[1;33m\u001b[0m\u001b[0m\n\u001b[0;32m      6\u001b[0m \u001b[1;32mprint\u001b[0m \u001b[0mfo\u001b[0m\u001b[1;33m.\u001b[0m\u001b[0mread\u001b[0m\u001b[1;33m(\u001b[0m\u001b[1;33m)\u001b[0m\u001b[1;33m\u001b[0m\u001b[0m\n",
      "\u001b[1;31mIOError\u001b[0m: [Errno 0] Error"
     ]
    }
   ],
   "source": [
    "# r+ ---> read + write\n",
    "fo = open(\"sample3.txt\",\"r+\") # file is  existed  then open the file and  data can be safe\n",
    "print fo.read()\n",
    "fo.write(\" anjan\")\n",
    "fo.seek(0,0)\n",
    "print fo.read()\n",
    "fo.seek()\n",
    "fo.write(\"raj  \")\n",
    "fo.close()"
   ]
  },
  {
   "cell_type": "code",
   "execution_count": 21,
   "metadata": {},
   "outputs": [
    {
     "name": "stdout",
     "output_type": "stream",
     "text": [
      "raj  nnjan kumar22324324677777 9090\n",
      " anjannjan kumar22324324677777 9090\n",
      "1234 nnjan kumar22324324677777 9090\n"
     ]
    }
   ],
   "source": [
    "# r+ ---> read + write\n",
    "fo = open(\"sample2.txt\",\"r+\") # file is  existed  then open the file and  data can be safe\n",
    "print fo.read()\n",
    "fo.seek(0,0)\n",
    "fo.write(\" anjan\")\n",
    "fo.seek(0,0)\n",
    "print fo.read()\n",
    "fo.seek(0,0)\n",
    "fo.write(\"1234 \")\n",
    "fo.seek(0,0)\n",
    "print fo.read()\n",
    "fo.close()"
   ]
  },
  {
   "cell_type": "code",
   "execution_count": 24,
   "metadata": {},
   "outputs": [
    {
     "name": "stdout",
     "output_type": "stream",
     "text": [
      "Initial Loc :  0\n",
      "EOF Loc :  35\n",
      "BOF Loc :  0\n",
      "from BOF 10th Loc :  10\n",
      "from  10th to 15th Loc :  15\n",
      "from  15th to 5th Loc :  5\n"
     ]
    }
   ],
   "source": [
    "so = open(\"sample2.txt\",\"r\")\n",
    "print \"Initial Loc : \",so.tell()\n",
    "#so.seek( +ve / -ve , 0/1/2  ) # 0 --> BOF , 1 -> COF , 2 --> EOF\n",
    "so.seek(0,2)\n",
    "print \"EOF Loc : \",so.tell()\n",
    "so.seek(0,0)\n",
    "print \"BOF Loc : \",so.tell()\n",
    "so.seek(10,0)\n",
    "print \"from BOF 10th Loc : \",so.tell()  # 1 ---> 10\n",
    "so.seek(5,1) # 15\n",
    "print \"from  10th to 15th Loc : \",so.tell()  # 1 ---> 15\n",
    "so.seek(-10,1) # 15\n",
    "print \"from  15th to 5th Loc : \",so.tell()  # 1 ---> 5\n",
    "so.close()"
   ]
  },
  {
   "cell_type": "code",
   "execution_count": null,
   "metadata": {},
   "outputs": [],
   "source": []
  }
 ],
 "metadata": {
  "kernelspec": {
   "display_name": "Python 2",
   "language": "python",
   "name": "python2"
  },
  "language_info": {
   "codemirror_mode": {
    "name": "ipython",
    "version": 2
   },
   "file_extension": ".py",
   "mimetype": "text/x-python",
   "name": "python",
   "nbconvert_exporter": "python",
   "pygments_lexer": "ipython2",
   "version": "2.7.16"
  }
 },
 "nbformat": 4,
 "nbformat_minor": 2
}
