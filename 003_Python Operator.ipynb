{
 "cells": [
  {
   "cell_type": "markdown",
   "metadata": {},
   "source": [
    "#### Operators\n",
    "\n",
    "===>>> Which are the special Symbols\n",
    "\n",
    "===>>> Which are used for to do the operations on data ( operands)\n",
    "\n",
    "##### Arithmetic Operator\n",
    "\n",
    "===>>> Which are used for to the arithmetic / Mahametical Operations\n",
    "\n",
    "1. Addition         +  \n",
    "\n",
    "2. Subtraction      -\n",
    "\n",
    "3. Multiplication   *\n",
    "\n",
    "4. Division         /\n",
    "\n",
    "5. Modulus          %\n",
    "\n",
    "6. Floor Divsion    //\n",
    "\n",
    "7. Exponant        **\n",
    "\n",
    "\n",
    "##### Relational Operator\n",
    "\n",
    "===>> Compare the 2 inputs ( data / operands )\n",
    "\n",
    "===>> The result of relational operators are True / False  --> boolean operator\n",
    "\n",
    "1.  lessthan                  <\n",
    "\n",
    "2. Greaterthan                >\n",
    "\n",
    "3. Equal to                  ==\n",
    "\n",
    "4. Not Equal too             !=\n",
    "\n",
    "5. Lessthan or equal         <=\n",
    "\n",
    "6. greaterthan or equal      >=\n",
    "\n",
    "\n",
    "##### Logical Operators\n",
    "\n",
    "===>> Logical Operator are operating based on logic\n",
    "\n",
    "1. Logical AND     ---> and\n",
    "\n",
    "====>>>  If all inputs are True then output is True other wise its False\n",
    "\n",
    "====>> In python\n",
    "\n",
    "input1  and input2  ---->  input1 / input2\n",
    "\n",
    "2. Logical OR      ---> or\n",
    "\n",
    "====>>>  atleast any one  input is  True then output is True other wise its False\n",
    "\n",
    "====>> In python\n",
    "\n",
    "input1  and input2  ---->  input1 / input2\n",
    "\n",
    "\n",
    "3. Logical NOT     ---> not\n",
    "\n",
    "====>>> if input is False then output is True \n",
    "\n",
    "====>>> if input is True then output is False\n",
    "\n",
    "\n",
    "\n",
    "\n",
    "#### Assignment Operator\n",
    "\n",
    "\n",
    "#### Identity Operator\n",
    "\n",
    "#### Membership Operator\n",
    "\n",
    "#### Bitwise operators"
   ]
  },
  {
   "cell_type": "code",
   "execution_count": 1,
   "metadata": {},
   "outputs": [
    {
     "name": "stdout",
     "output_type": "stream",
     "text": [
      "enter a : 103.0\n",
      "enter b : 3.0\n",
      "103.0  +  3.0  =  106.0\n",
      "103.0  -  3.0  =  100.0\n",
      "103.0  *  3.0  =  309.0\n",
      "103.0  **  3.0  =  1092727.0\n",
      "103.0  %  3.0  =  1.0\n",
      "103.0  /  3.0  =  34.3333333333\n",
      "103.0  //  3.0  =  34.0\n"
     ]
    }
   ],
   "source": [
    "# Arithmetic Operator\n",
    "a = input(\"enter a : \")\n",
    "b = input(\"enter b : \")\n",
    "print a,\" + \",b,\" = \",a+b\n",
    "print a,\" - \",b,\" = \",a-b\n",
    "print a,\" * \",b,\" = \",a*b\n",
    "print a,\" ** \",b,\" = \",a**b   #####  a * a * a * a *------- b times\n",
    "print a,\" % \",b,\" = \",a%b\n",
    "print a,\" / \",b,\" = \",a/b\n",
    "print a,\" // \",b,\" = \",a//b"
   ]
  },
  {
   "cell_type": "code",
   "execution_count": 2,
   "metadata": {},
   "outputs": [
    {
     "name": "stdout",
     "output_type": "stream",
     "text": [
      "enter side of a squre  in meters : 40\n",
      "area of sqaure  :  1600  sq .m \n",
      "perimterof sqaure :  160  meters\n"
     ]
    }
   ],
   "source": [
    "# wap find the area of square and perimter of sqaure \n",
    "\n",
    "side = input(\"enter side of a squre  in meters : \")\n",
    "area =  side ** 2\n",
    "peri = 4 * side\n",
    "print \"area of sqaure  : \",area, \" sq .m \"\n",
    "print \"perimterof sqaure : \",peri,\" meters\""
   ]
  },
  {
   "cell_type": "code",
   "execution_count": null,
   "metadata": {},
   "outputs": [],
   "source": [
    "# wap find the area and perimter of rectangular\n",
    "# wap find the area and perimter of circle\n",
    "# wap find the area and perimter triangle\n",
    "# wap convert radians to degrees  vice verse \n"
   ]
  },
  {
   "cell_type": "code",
   "execution_count": null,
   "metadata": {},
   "outputs": [],
   "source": []
  },
  {
   "cell_type": "code",
   "execution_count": 3,
   "metadata": {},
   "outputs": [
    {
     "name": "stdout",
     "output_type": "stream",
     "text": [
      "enter a : 10\n",
      "enter b : 10\n",
      "10  <  10  =  False\n",
      "10  >  10  =  False\n",
      "10  ==  10  =  True\n",
      "10  !=  10  =  False\n",
      "10  <=  10  =  True\n",
      "10  >=  10  =  True\n"
     ]
    }
   ],
   "source": [
    "# Relational Operator\n",
    "a = input(\"enter a : \")\n",
    "b = input(\"enter b : \")\n",
    "print a,\" < \",b,\" = \",a <b\n",
    "print a,\" > \",b,\" = \",a > b\n",
    "print a,\" == \",b,\" = \",a==b\n",
    "print a,\" != \",b,\" = \",a!=b   \n",
    "print a,\" <= \",b,\" = \",a<=b\n",
    "print a,\" >= \",b,\" = \",a>=b\n"
   ]
  },
  {
   "cell_type": "code",
   "execution_count": 4,
   "metadata": {},
   "outputs": [
    {
     "name": "stdout",
     "output_type": "stream",
     "text": [
      "enter a : 20\n",
      "enter b : 10\n",
      "20  <  10  =  False\n",
      "20  >  10  =  True\n",
      "20  ==  10  =  False\n",
      "20  !=  10  =  True\n",
      "20  <=  10  =  False\n",
      "20  >=  10  =  True\n"
     ]
    }
   ],
   "source": [
    "# Relational Operator\n",
    "a = input(\"enter a : \")\n",
    "b = input(\"enter b : \")\n",
    "print a,\" < \",b,\" = \",a <b\n",
    "print a,\" > \",b,\" = \",a > b\n",
    "print a,\" == \",b,\" = \",a==b\n",
    "print a,\" != \",b,\" = \",a!=b   \n",
    "print a,\" <= \",b,\" = \",a<=b\n",
    "print a,\" >= \",b,\" = \",a>=b\n"
   ]
  },
  {
   "cell_type": "code",
   "execution_count": 5,
   "metadata": {},
   "outputs": [
    {
     "name": "stdout",
     "output_type": "stream",
     "text": [
      "enter a : 10\n",
      "enter b : 20\n",
      "10  <  20  =  True\n",
      "10  >  20  =  False\n",
      "10  ==  20  =  False\n",
      "10  !=  20  =  True\n",
      "10  <=  20  =  True\n",
      "10  >=  20  =  False\n"
     ]
    }
   ],
   "source": [
    "# Relational Operator\n",
    "a = input(\"enter a : \")\n",
    "b = input(\"enter b : \")\n",
    "print a,\" < \",b,\" = \",a <b\n",
    "print a,\" > \",b,\" = \",a > b\n",
    "print a,\" == \",b,\" = \",a==b\n",
    "print a,\" != \",b,\" = \",a!=b   \n",
    "print a,\" <= \",b,\" = \",a<=b\n",
    "print a,\" >= \",b,\" = \",a>=b\n"
   ]
  },
  {
   "cell_type": "code",
   "execution_count": 6,
   "metadata": {},
   "outputs": [
    {
     "name": "stdout",
     "output_type": "stream",
     "text": [
      "enter num : 45\n",
      "45  is odd  True\n"
     ]
    }
   ],
   "source": [
    "# wap given number is Odd or not   ---> True / False\n",
    "num = input(\"enter num : \")\n",
    "rem = num %2\n",
    "print num,\" is odd \", rem == 1"
   ]
  },
  {
   "cell_type": "code",
   "execution_count": 7,
   "metadata": {},
   "outputs": [
    {
     "name": "stdout",
     "output_type": "stream",
     "text": [
      "enter num : 40\n",
      "40  is odd  False\n"
     ]
    }
   ],
   "source": [
    "# wap given number is Odd or not   ---> True / False\n",
    "num = input(\"enter num : \")\n",
    "rem = num %2\n",
    "print num,\" is odd \", rem == 1"
   ]
  },
  {
   "cell_type": "code",
   "execution_count": null,
   "metadata": {},
   "outputs": [],
   "source": []
  },
  {
   "cell_type": "code",
   "execution_count": 8,
   "metadata": {},
   "outputs": [
    {
     "name": "stdout",
     "output_type": "stream",
     "text": [
      "set([35, 12])\n",
      "{}\n",
      "{}\n",
      "0j\n",
      "0.0\n"
     ]
    }
   ],
   "source": [
    "#### Logical Operators\n",
    "'''\n",
    "int       <-->   0 --> False case  ,  +ve / -ve  ---> True case\n",
    "float     <--> 0.0 --> False case  ,  +ve / -ve  ---> True case\n",
    "complex   <--> 0+0j --> False case  ,  +ve / -ve  ---> True case\n",
    "bool   <-->   False --> False case  ,  True       ---> True case\n",
    "None   <-->   None --> False case  \n",
    "str,list, tuple, set, dict  ---> len is 0 ---> False  case, otherwise ---> True Case\n",
    "'''\n",
    "# Logical AND   \n",
    "'''\n",
    "in1   and   in2   ----> res ( in1/in2)\n",
    "\n",
    "res --> in1 , when the in1 is False Case\n",
    "\n",
    "res --> in2 ,  when the in1 is True Case\n",
    "'''\n",
    "\n",
    "print 34     and  {12,35} # {12,35}\n",
    "print {}     and  4556    # {}\n",
    "print [12,3] and  {} # {}\n",
    "print 0+0j   and  {2,3} # 0j\n",
    "print 0.000  and  34.23 #0.0"
   ]
  },
  {
   "cell_type": "code",
   "execution_count": 9,
   "metadata": {},
   "outputs": [
    {
     "name": "stdout",
     "output_type": "stream",
     "text": [
      "34\n",
      "4556\n",
      "[12, 3]\n",
      "set([2, 3])\n",
      "34.23\n"
     ]
    }
   ],
   "source": [
    "# Logical OR   \n",
    "'''\n",
    "in1   or   in2   ----> res ( in1/in2)\n",
    "\n",
    "res --> in2 , when the in1 is False Case\n",
    "\n",
    "res --> in1 ,  when the in1 is True Case\n",
    "'''\n",
    "\n",
    "print 34     or  {12,35}  # 34\n",
    "print {}     or  4556     # 4556\n",
    "print [12,3] or  {}       #[12,3]\n",
    "print 0+0j   or  {2,3}    #{2,3}\n",
    "print 0.000  or  34.23    #34.23"
   ]
  },
  {
   "cell_type": "code",
   "execution_count": 10,
   "metadata": {},
   "outputs": [
    {
     "name": "stdout",
     "output_type": "stream",
     "text": [
      "False\n",
      "True\n"
     ]
    }
   ],
   "source": [
    "# logical NOT   --> not\n",
    "\n",
    "print not 45  # False\n",
    "print not {}  # True"
   ]
  },
  {
   "cell_type": "code",
   "execution_count": null,
   "metadata": {},
   "outputs": [],
   "source": []
  },
  {
   "cell_type": "code",
   "execution_count": 11,
   "metadata": {},
   "outputs": [
    {
     "name": "stdout",
     "output_type": "stream",
     "text": [
      "34\n",
      "67\n",
      "34\n",
      "2312\n"
     ]
    }
   ],
   "source": [
    "# assignment operators  --> to assign the data to variable\n",
    "'''\n",
    "data  --> constant , variable , expression\n",
    "'''\n",
    "a = 34 # constant ot variable\n",
    "b = 67\n",
    "c = a  # variable to variable\n",
    "d = a+b*c # expression to variable\n",
    "print a\n",
    "print b\n",
    "print c\n",
    "print d"
   ]
  },
  {
   "cell_type": "code",
   "execution_count": 12,
   "metadata": {},
   "outputs": [
    {
     "name": "stdout",
     "output_type": "stream",
     "text": [
      "12\n",
      "23\n",
      "35\n",
      "23\n"
     ]
    }
   ],
   "source": [
    "# Compound Assignment Operators\n",
    "\n",
    "a =  12\n",
    "b = 23\n",
    "print a\n",
    "print b\n",
    "a = a + b  # addition then update\n",
    "print a\n",
    "print b"
   ]
  },
  {
   "cell_type": "code",
   "execution_count": 13,
   "metadata": {},
   "outputs": [
    {
     "name": "stdout",
     "output_type": "stream",
     "text": [
      "12\n",
      "23\n",
      "35\n",
      "23\n"
     ]
    }
   ],
   "source": [
    "\n",
    "a =  12\n",
    "b = 23\n",
    "print a\n",
    "print b\n",
    "a += b       #a = a + b  # addition then update\n",
    "print a\n",
    "print b"
   ]
  },
  {
   "cell_type": "code",
   "execution_count": 14,
   "metadata": {},
   "outputs": [
    {
     "name": "stdout",
     "output_type": "stream",
     "text": [
      "12\n",
      "23\n",
      "-11\n",
      "23\n"
     ]
    }
   ],
   "source": [
    "a =  12\n",
    "b = 23\n",
    "print a\n",
    "print b\n",
    "a -= b       #a = a - b  # subtraction then update\n",
    "print a\n",
    "print b"
   ]
  },
  {
   "cell_type": "code",
   "execution_count": 15,
   "metadata": {},
   "outputs": [
    {
     "name": "stdout",
     "output_type": "stream",
     "text": [
      "12\n",
      "23\n",
      "276\n",
      "23\n"
     ]
    }
   ],
   "source": [
    "a =  12\n",
    "b = 23\n",
    "print a\n",
    "print b\n",
    "a *= b       #a = a * b  # multiplication then update\n",
    "print a\n",
    "print b"
   ]
  },
  {
   "cell_type": "code",
   "execution_count": 18,
   "metadata": {},
   "outputs": [
    {
     "name": "stdout",
     "output_type": "stream",
     "text": [
      "[12, 45, 78]\n",
      "[12, 45, 78]\n",
      "78483016\n",
      "80197064\n",
      "False\n",
      "True\n"
     ]
    }
   ],
   "source": [
    "# Identity operator\n",
    "'''\n",
    "===> To check the memory the memory loc \n",
    "\n",
    "is  \n",
    "\n",
    "True  --> Same \n",
    "\n",
    "false  --> diffe\n",
    "\n",
    "is not\n",
    "\n",
    "True  --> diff\n",
    "\n",
    "false  --> same\n",
    "'''\n",
    "a = [12,45,78]\n",
    "b = [12,45,78]\n",
    "print a\n",
    "print b\n",
    "print id(a)\n",
    "print id(b)\n",
    "print a is b\n",
    "print a is not b"
   ]
  },
  {
   "cell_type": "code",
   "execution_count": 19,
   "metadata": {},
   "outputs": [
    {
     "name": "stdout",
     "output_type": "stream",
     "text": [
      "[12, 45, 78]\n",
      "[12, 45, 78]\n",
      "72211272\n",
      "72211272\n",
      "True\n",
      "False\n"
     ]
    }
   ],
   "source": [
    "# Identity operator\n",
    "'''\n",
    "===> To check the memory the memory loc \n",
    "\n",
    "is  \n",
    "\n",
    "True  --> Same \n",
    "\n",
    "false  --> diffe\n",
    "'''\n",
    "a = [12,45,78]\n",
    "b = a\n",
    "print a\n",
    "print b\n",
    "print id(a)\n",
    "print id(b)\n",
    "print a is b\n",
    "print a is not b"
   ]
  },
  {
   "cell_type": "code",
   "execution_count": 20,
   "metadata": {},
   "outputs": [
    {
     "name": "stdout",
     "output_type": "stream",
     "text": [
      "True\n",
      "False\n",
      "False\n",
      "True\n"
     ]
    }
   ],
   "source": [
    "# Membership Operators\n",
    "'''\n",
    "==> one element is available in another group of  elements\n",
    "\n",
    "in\n",
    "\n",
    "True  --> available\n",
    "False --> Not available\n",
    "\n",
    "not in\n",
    "False --> available\n",
    "True --> Not available\n",
    "\n",
    "'''\n",
    "a = [45,90,100]\n",
    "b =45\n",
    "c =110\n",
    "print  b in  a # True\n",
    "print  c in a  # False\n",
    "print  b not in a # False\n",
    "print c not in a # True"
   ]
  },
  {
   "cell_type": "code",
   "execution_count": null,
   "metadata": {},
   "outputs": [],
   "source": []
  }
 ],
 "metadata": {
  "kernelspec": {
   "display_name": "Python 2",
   "language": "python",
   "name": "python2"
  },
  "language_info": {
   "codemirror_mode": {
    "name": "ipython",
    "version": 2
   },
   "file_extension": ".py",
   "mimetype": "text/x-python",
   "name": "python",
   "nbconvert_exporter": "python",
   "pygments_lexer": "ipython2",
   "version": "2.7.16"
  }
 },
 "nbformat": 4,
 "nbformat_minor": 2
}
