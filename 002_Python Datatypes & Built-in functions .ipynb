{
 "cells": [
  {
   "cell_type": "markdown",
   "metadata": {},
   "source": [
    " ###  Data Type\n",
    " \n",
    " ==>> The variable ( names ) are used for to hold the data\n",
    " \n",
    " ==>> To specify the what type of data holded by variable\n",
    " \n",
    " \n",
    " #### 2 types\n",
    " \n",
    " 1. Fundamental Datatype\n",
    " \n",
    " ====>>  A single variable can hold single data\n",
    " \n",
    "         1.  int\n",
    "         \n",
    "         2.  float\n",
    "         \n",
    "         3.  complex\n",
    "         \n",
    "         4.  bool\n",
    "         \n",
    "         5.  None\n",
    " \n",
    " 2. Sequencial datatype\n",
    " \n",
    " ===>>  A single variable can hold the multiple data elements\n",
    " \n",
    "         1. str  --->  collection of character   \" \"\n",
    "         \n",
    "         2. list ---> collection of elements ( any datatype element )    []\n",
    "         \n",
    "         3. tuple---> collection of elements ( any datatype element )    ()\n",
    "         \n",
    "         4. set---> collection of elements ( any datatype element )     {}\n",
    "         \n",
    "         5. dict---> collection of items      {}\n",
    "         \n",
    " \n",
    " ==>> type() ---->> to know the datatype of any variable\n",
    " \n",
    " ==>> id ()  ---->> to know the memory location of any variable\n",
    " \n",
    " \n",
    " ### variables \n",
    " \n",
    " ==>> User defined names ( Identifiers )\n",
    " \n",
    " ==>> which can hold the data with in the memory loc\n",
    " \n",
    " ==>> In other programming Language we have to declare the variables before using \n",
    " \n",
    " ==>> But in python we can direclty assign the data\n",
    " \n",
    " ### Identifier \n",
    " \n",
    " ===>> User defined Names\n",
    " \n",
    " ===>> Which are used for to give the names for variables  , functions , classes\n",
    " \n",
    " ### Rules\n",
    " \n",
    " ==>> we can use alphabets     A - Z  /  a - Z\n",
    " \n",
    " ==>> we can use digits     0  - 9\n",
    " \n",
    " ==>> we can use underscore  _\n",
    " \n",
    " ==>> Don't use special Character !@#$%^&*()~` <>?\"{}[]\n",
    " \n",
    " ==>> Don't start with digit \n",
    " \n",
    " ==>> Don't use keywords\n",
    " \n",
    " \n",
    " \n"
   ]
  },
  {
   "cell_type": "markdown",
   "metadata": {},
   "source": [
    "### Keywords\n",
    "\n",
    "===>> Predefined words \n",
    "\n",
    "===>> each and every keyword which is having its own task\n",
    "\n",
    "===>> keyword lib having all keywords"
   ]
  },
  {
   "cell_type": "code",
   "execution_count": 1,
   "metadata": {},
   "outputs": [
    {
     "name": "stdout",
     "output_type": "stream",
     "text": [
      "['and', 'as', 'assert', 'break', 'class', 'continue', 'def', 'del', 'elif', 'else', 'except', 'exec', 'finally', 'for', 'from', 'global', 'if', 'import', 'in', 'is', 'lambda', 'not', 'or', 'pass', 'print', 'raise', 'return', 'try', 'while', 'with', 'yield']\n"
     ]
    }
   ],
   "source": [
    "import  keyword\n",
    "\n",
    "print keyword.kwlist"
   ]
  },
  {
   "cell_type": "code",
   "execution_count": 2,
   "metadata": {},
   "outputs": [
    {
     "name": "stdout",
     "output_type": "stream",
     "text": [
      "['and', 'as', 'assert', 'break', 'class', 'continue', 'def', 'del', 'elif', 'else', 'except', 'exec', 'finally', 'for', 'from', 'global', 'if', 'import', 'in', 'is', 'lambda', 'not', 'or', 'pass', 'print', 'raise', 'return', 'try', 'while', 'with', 'yield']\n"
     ]
    }
   ],
   "source": [
    "import  keyword as key\n",
    "\n",
    "print key.kwlist"
   ]
  },
  {
   "cell_type": "code",
   "execution_count": 3,
   "metadata": {},
   "outputs": [
    {
     "name": "stdout",
     "output_type": "stream",
     "text": [
      "True\n",
      "False\n"
     ]
    }
   ],
   "source": [
    "print True and True\n",
    "print True and False"
   ]
  },
  {
   "cell_type": "code",
   "execution_count": 5,
   "metadata": {},
   "outputs": [
    {
     "name": "stdout",
     "output_type": "stream",
     "text": [
      "234\n",
      "enter some data : 456\n",
      "456\n",
      "<type 'int'>\n",
      "67663944\n"
     ]
    }
   ],
   "source": [
    "# input() --->which is used for to read the data from keyword\n",
    "\n",
    "var =  234\n",
    "print var\n",
    "a = input(\"enter some data : \")\n",
    "print a\n",
    "print type(a)\n",
    "print id(a)"
   ]
  },
  {
   "cell_type": "code",
   "execution_count": null,
   "metadata": {},
   "outputs": [],
   "source": []
  },
  {
   "cell_type": "code",
   "execution_count": 6,
   "metadata": {},
   "outputs": [
    {
     "name": "stdout",
     "output_type": "stream",
     "text": [
      "enter int  : 123\n",
      "123\n",
      "<type 'int'>\n",
      "memory :  39818912\n"
     ]
    }
   ],
   "source": [
    "# read int data element and print data , type, memory\n",
    "var = input(\"enter int  : \") # -ve / +ve / 0\n",
    "print var\n",
    "print type(var)\n",
    "print \"memory : \",id(var)"
   ]
  },
  {
   "cell_type": "code",
   "execution_count": 7,
   "metadata": {},
   "outputs": [
    {
     "name": "stdout",
     "output_type": "stream",
     "text": [
      "enter float  : 12.53545\n",
      "12.53545\n",
      "<type 'float'>\n",
      "memory :  67655400\n"
     ]
    }
   ],
   "source": [
    "# read float data element and print data , type, memory\n",
    "var = input(\"enter float  : \") # 23.4645 , -45.23 , 0.0\n",
    "print var\n",
    "print type(var)\n",
    "print \"memory : \",id(var)"
   ]
  },
  {
   "cell_type": "code",
   "execution_count": 8,
   "metadata": {},
   "outputs": [
    {
     "name": "stdout",
     "output_type": "stream",
     "text": [
      "enter complex  : 23 + 56j\n",
      "(23+56j)\n",
      "<type 'complex'>\n",
      "memory :  68162992\n"
     ]
    }
   ],
   "source": [
    "#  X + Yj \n",
    "# X ( int , float) -->real\n",
    "# Y (int  , float) --> img\n",
    "\n",
    "# read complex data element and print data , type, memory\n",
    "var = input(\"enter complex  : \") # X + Yj\n",
    "print var\n",
    "print type(var)\n",
    "print \"memory : \",id(var)"
   ]
  },
  {
   "cell_type": "code",
   "execution_count": 9,
   "metadata": {},
   "outputs": [
    {
     "name": "stdout",
     "output_type": "stream",
     "text": [
      "enter bool : True\n",
      "True\n",
      "<type 'bool'>\n",
      "memory :  1708113640\n"
     ]
    }
   ],
   "source": [
    "# read bool data ( True , False)\n",
    "var = input(\"enter bool : \") # True , False\n",
    "print var\n",
    "print type(var)\n",
    "print \"memory : \",id(var)"
   ]
  },
  {
   "cell_type": "code",
   "execution_count": 10,
   "metadata": {},
   "outputs": [
    {
     "name": "stdout",
     "output_type": "stream",
     "text": [
      "enter bool : False\n",
      "False\n",
      "<type 'bool'>\n",
      "memory :  1708113224\n"
     ]
    }
   ],
   "source": [
    "# read bool data ( True , False)\n",
    "var = input(\"enter bool : \") # True , False\n",
    "print var\n",
    "print type(var)\n",
    "print \"memory : \",id(var)"
   ]
  },
  {
   "cell_type": "code",
   "execution_count": 11,
   "metadata": {},
   "outputs": [
    {
     "name": "stdout",
     "output_type": "stream",
     "text": [
      "enter Nonetype : None\n",
      "None\n",
      "<type 'NoneType'>\n",
      "memory :  1708067960\n"
     ]
    }
   ],
   "source": [
    "# read None data \n",
    "var = input(\"enter Nonetype : \") # None\n",
    "print var\n",
    "print type(var)\n",
    "print \"memory : \",id(var)"
   ]
  },
  {
   "cell_type": "code",
   "execution_count": 14,
   "metadata": {},
   "outputs": [
    {
     "name": "stdout",
     "output_type": "stream",
     "text": [
      "enter str : \"python\"\n",
      "python\n",
      "<type 'str'>\n",
      "memory :  39954272\n"
     ]
    }
   ],
   "source": [
    "# read string  data \" \" , ''  ,''' ''' , \"\"\"  \"\"\"\n",
    "var = input(\"enter str : \")\n",
    "print var\n",
    "print type(var)\n",
    "print \"memory : \",id(var)"
   ]
  },
  {
   "cell_type": "code",
   "execution_count": 15,
   "metadata": {},
   "outputs": [
    {
     "name": "stdout",
     "output_type": "stream",
     "text": [
      "enter list : [ 12 ,8.24 ,6+3j ,None,True, \"soc\"]\n",
      "[12, 8.24, (6+3j), None, True, 'soc']\n",
      "<type 'list'>\n",
      "memory :  73055176\n"
     ]
    }
   ],
   "source": [
    "# read list  -->  [ ]\n",
    "var = input(\"enter list : \")\n",
    "print var\n",
    "print type(var)\n",
    "print \"memory : \",id(var)"
   ]
  },
  {
   "cell_type": "code",
   "execution_count": 16,
   "metadata": {},
   "outputs": [
    {
     "name": "stdout",
     "output_type": "stream",
     "text": [
      "enter tuple : ( 12 ,8.24 ,6+3j ,None,True, \"soc\" )\n",
      "(12, 8.24, (6+3j), None, True, 'soc')\n",
      "<type 'tuple'>\n",
      "memory :  72559880\n"
     ]
    }
   ],
   "source": [
    "# read tuple  -->  ()\n",
    "var = input(\"enter tuple : \")\n",
    "print var\n",
    "print type(var)\n",
    "print \"memory : \",id(var)"
   ]
  },
  {
   "cell_type": "code",
   "execution_count": 17,
   "metadata": {},
   "outputs": [
    {
     "name": "stdout",
     "output_type": "stream",
     "text": [
      "enter set : { 12 ,8.24 ,6+3j ,None,True, \"soc\" }\n",
      "set([True, 'soc', None, 12, (6+3j), 8.24])\n",
      "<type 'set'>\n",
      "memory :  64810568\n"
     ]
    }
   ],
   "source": [
    "# read set -->  {}\n",
    "var = input(\"enter set : \")\n",
    "print var\n",
    "print type(var)\n",
    "print \"memory : \",id(var)"
   ]
  },
  {
   "cell_type": "code",
   "execution_count": 19,
   "metadata": {},
   "outputs": [
    {
     "name": "stdout",
     "output_type": "stream",
     "text": [
      "{34: 'Saski', 12: 'Ronak'}\n",
      "<type 'dict'>\n",
      "memory :  74388616\n"
     ]
    }
   ],
   "source": [
    "# read dict  --> recorded  --> Hash table\n",
    "'''\n",
    "ID (Keys)   :  Name (values)\n",
    "\n",
    "12     \"Ronak\"\n",
    "\n",
    "34     \"Saski\"\n",
    "\n",
    "67     \"Laxmi\"\n",
    "'''\n",
    "str_record = { 12 : \"Ronak\" , 34 : \"Saski\" }\n",
    "print str_record\n",
    "print type(str_record)\n",
    "print \"memory : \",id(str_record)"
   ]
  },
  {
   "cell_type": "code",
   "execution_count": 22,
   "metadata": {},
   "outputs": [
    {
     "name": "stdout",
     "output_type": "stream",
     "text": [
      "enter int : 12\n",
      "12\n",
      "<type 'int'>\n",
      "(12+0j)\n",
      "<type 'complex'>\n"
     ]
    }
   ],
   "source": [
    "# Type casting  ---> Datatype conversion\n",
    "'''\n",
    "int()\n",
    "float()\n",
    "complex()\n",
    "bool()\n",
    "str()\n",
    "list()\n",
    "tuple()\n",
    "set()\n",
    "dict()\n",
    "'''\n",
    "# wap convert int to complex\n",
    "var = input(\"enter int : \")\n",
    "print var\n",
    "print type(var)\n",
    "var = complex(var)\n",
    "print var\n",
    "print type(var)"
   ]
  },
  {
   "cell_type": "code",
   "execution_count": 23,
   "metadata": {},
   "outputs": [
    {
     "name": "stdout",
     "output_type": "stream",
     "text": [
      "enter int : 34\n",
      "34\n",
      "<type 'int'>\n",
      "34.0\n",
      "<type 'float'>\n"
     ]
    }
   ],
   "source": [
    "# wap convert int to float\n",
    "var = input(\"enter int : \")\n",
    "print var\n",
    "print type(var)\n",
    "var = float(var)\n",
    "print var\n",
    "print type(var)"
   ]
  },
  {
   "cell_type": "code",
   "execution_count": 24,
   "metadata": {},
   "outputs": [
    {
     "name": "stdout",
     "output_type": "stream",
     "text": [
      "enter int : 12\n",
      "12\n",
      "<type 'int'>\n",
      "True\n",
      "<type 'bool'>\n"
     ]
    }
   ],
   "source": [
    "# wap convert int to bool\n",
    "var = input(\"enter int : \")\n",
    "print var\n",
    "print type(var)\n",
    "var = bool(var)\n",
    "print var\n",
    "print type(var)"
   ]
  },
  {
   "cell_type": "code",
   "execution_count": 25,
   "metadata": {},
   "outputs": [
    {
     "name": "stdout",
     "output_type": "stream",
     "text": [
      "enter int : 345\n",
      "345\n",
      "<type 'int'>\n",
      "345\n",
      "<type 'str'>\n"
     ]
    }
   ],
   "source": [
    "# wap convert int to str\n",
    "var = input(\"enter int : \")\n",
    "print var\n",
    "print type(var)\n",
    "var = str(var)\n",
    "print var\n",
    "print type(var)"
   ]
  },
  {
   "cell_type": "code",
   "execution_count": 26,
   "metadata": {},
   "outputs": [
    {
     "name": "stdout",
     "output_type": "stream",
     "text": [
      "enter int : 78\n",
      "78\n",
      "<type 'int'>\n"
     ]
    },
    {
     "ename": "TypeError",
     "evalue": "'int' object is not iterable",
     "output_type": "error",
     "traceback": [
      "\u001b[1;31m\u001b[0m",
      "\u001b[1;31mTypeError\u001b[0mTraceback (most recent call last)",
      "\u001b[1;32m<ipython-input-26-e7ef2b9f9827>\u001b[0m in \u001b[0;36m<module>\u001b[1;34m()\u001b[0m\n\u001b[0;32m      3\u001b[0m \u001b[1;32mprint\u001b[0m \u001b[0mvar\u001b[0m\u001b[1;33m\u001b[0m\u001b[0m\n\u001b[0;32m      4\u001b[0m \u001b[1;32mprint\u001b[0m \u001b[0mtype\u001b[0m\u001b[1;33m(\u001b[0m\u001b[0mvar\u001b[0m\u001b[1;33m)\u001b[0m\u001b[1;33m\u001b[0m\u001b[0m\n\u001b[1;32m----> 5\u001b[1;33m \u001b[0mvar\u001b[0m \u001b[1;33m=\u001b[0m \u001b[0mlist\u001b[0m\u001b[1;33m(\u001b[0m\u001b[0mvar\u001b[0m\u001b[1;33m)\u001b[0m\u001b[1;33m\u001b[0m\u001b[0m\n\u001b[0m\u001b[0;32m      6\u001b[0m \u001b[1;32mprint\u001b[0m \u001b[0mvar\u001b[0m\u001b[1;33m\u001b[0m\u001b[0m\n\u001b[0;32m      7\u001b[0m \u001b[1;32mprint\u001b[0m \u001b[0mtype\u001b[0m\u001b[1;33m(\u001b[0m\u001b[0mvar\u001b[0m\u001b[1;33m)\u001b[0m\u001b[1;33m\u001b[0m\u001b[0m\n",
      "\u001b[1;31mTypeError\u001b[0m: 'int' object is not iterable"
     ]
    }
   ],
   "source": [
    "# wap convert int to list\n",
    "var = input(\"enter int : \")\n",
    "print var\n",
    "print type(var)\n",
    "var = list(var)\n",
    "print var\n",
    "print type(var)"
   ]
  },
  {
   "cell_type": "code",
   "execution_count": 27,
   "metadata": {},
   "outputs": [
    {
     "name": "stdout",
     "output_type": "stream",
     "text": [
      "enter str : \"234565\"\n",
      "234565\n",
      "<type 'str'>\n",
      "['2', '3', '4', '5', '6', '5']\n",
      "<type 'list'>\n"
     ]
    }
   ],
   "source": [
    "# wap convert str to list\n",
    "var = input(\"enter str : \")\n",
    "print var\n",
    "print type(var)\n",
    "var = list(var)\n",
    "print var\n",
    "print type(var)"
   ]
  },
  {
   "cell_type": "code",
   "execution_count": 28,
   "metadata": {},
   "outputs": [
    {
     "name": "stdout",
     "output_type": "stream",
     "text": [
      "enter str : \"slkjjdgjj\"\n",
      "slkjjdgjj\n",
      "<type 'str'>\n",
      "('s', 'l', 'k', 'j', 'j', 'd', 'g', 'j', 'j')\n",
      "<type 'tuple'>\n"
     ]
    }
   ],
   "source": [
    "# wap convert str tuple\n",
    "var = input(\"enter str : \")\n",
    "print var\n",
    "print type(var)\n",
    "var = tuple(var)\n",
    "print var\n",
    "print type(var)"
   ]
  },
  {
   "cell_type": "code",
   "execution_count": 29,
   "metadata": {},
   "outputs": [
    {
     "name": "stdout",
     "output_type": "stream",
     "text": [
      "enter str : \"jfhgjkhfgkjf\"\n",
      "jfhgjkhfgkjf\n",
      "<type 'str'>\n",
      "set(['h', 'k', 'j', 'g', 'f'])\n",
      "<type 'set'>\n"
     ]
    }
   ],
   "source": [
    "# wap convert str set\n",
    "var = input(\"enter str : \")\n",
    "print var\n",
    "print type(var)\n",
    "var = set(var)\n",
    "print var\n",
    "print type(var)"
   ]
  },
  {
   "cell_type": "code",
   "execution_count": 30,
   "metadata": {},
   "outputs": [
    {
     "name": "stdout",
     "output_type": "stream",
     "text": [
      "enter str : \"232432\"\n",
      "232432\n",
      "<type 'str'>\n"
     ]
    },
    {
     "ename": "ValueError",
     "evalue": "dictionary update sequence element #0 has length 1; 2 is required",
     "output_type": "error",
     "traceback": [
      "\u001b[1;31m\u001b[0m",
      "\u001b[1;31mValueError\u001b[0mTraceback (most recent call last)",
      "\u001b[1;32m<ipython-input-30-5849c7f4b6a3>\u001b[0m in \u001b[0;36m<module>\u001b[1;34m()\u001b[0m\n\u001b[0;32m      3\u001b[0m \u001b[1;32mprint\u001b[0m \u001b[0mvar\u001b[0m\u001b[1;33m\u001b[0m\u001b[0m\n\u001b[0;32m      4\u001b[0m \u001b[1;32mprint\u001b[0m \u001b[0mtype\u001b[0m\u001b[1;33m(\u001b[0m\u001b[0mvar\u001b[0m\u001b[1;33m)\u001b[0m\u001b[1;33m\u001b[0m\u001b[0m\n\u001b[1;32m----> 5\u001b[1;33m \u001b[0mvar\u001b[0m \u001b[1;33m=\u001b[0m \u001b[0mdict\u001b[0m\u001b[1;33m(\u001b[0m\u001b[0mvar\u001b[0m\u001b[1;33m)\u001b[0m\u001b[1;33m\u001b[0m\u001b[0m\n\u001b[0m\u001b[0;32m      6\u001b[0m \u001b[1;32mprint\u001b[0m \u001b[0mvar\u001b[0m\u001b[1;33m\u001b[0m\u001b[0m\n\u001b[0;32m      7\u001b[0m \u001b[1;32mprint\u001b[0m \u001b[0mtype\u001b[0m\u001b[1;33m(\u001b[0m\u001b[0mvar\u001b[0m\u001b[1;33m)\u001b[0m\u001b[1;33m\u001b[0m\u001b[0m\n",
      "\u001b[1;31mValueError\u001b[0m: dictionary update sequence element #0 has length 1; 2 is required"
     ]
    }
   ],
   "source": [
    "# wap convert str to dict\n",
    "var = input(\"enter str : \")\n",
    "print var\n",
    "print type(var)\n",
    "var = dict(var)\n",
    "print var\n",
    "print type(var)"
   ]
  },
  {
   "cell_type": "code",
   "execution_count": 31,
   "metadata": {},
   "outputs": [
    {
     "name": "stdout",
     "output_type": "stream",
     "text": [
      "enter tuple with in tuple 2 elements : ((12,56) ,(56,89))\n",
      "((12, 56), (56, 89))\n",
      "<type 'tuple'>\n",
      "{56: 89, 12: 56}\n",
      "<type 'dict'>\n"
     ]
    }
   ],
   "source": [
    "# wap convert\n",
    "var = input(\"enter tuple with in tuple 2 elements : \")\n",
    "print var\n",
    "print type(var)\n",
    "var = dict(var)\n",
    "print var\n",
    "print type(var)"
   ]
  },
  {
   "cell_type": "code",
   "execution_count": null,
   "metadata": {},
   "outputs": [],
   "source": []
  }
 ],
 "metadata": {
  "kernelspec": {
   "display_name": "Python 2",
   "language": "python",
   "name": "python2"
  },
  "language_info": {
   "codemirror_mode": {
    "name": "ipython",
    "version": 2
   },
   "file_extension": ".py",
   "mimetype": "text/x-python",
   "name": "python",
   "nbconvert_exporter": "python",
   "pygments_lexer": "ipython2",
   "version": "2.7.16"
  }
 },
 "nbformat": 4,
 "nbformat_minor": 2
}
