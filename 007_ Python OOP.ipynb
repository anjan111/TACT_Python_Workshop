{
 "cells": [
  {
   "cell_type": "markdown",
   "metadata": {},
   "source": [
    "#### OOP :\n",
    "\n",
    "===>> If any Programming Langauge it can follows the following features\n",
    "\n",
    "    1. Method Overridding\n",
    "    \n",
    "    2. Method Overloading \n",
    "    \n",
    "    3. PolyMorphsim\n",
    "    \n",
    "    4. Inheritance\n",
    "    \n",
    "    5. Data Hiding \n",
    "    \n",
    "    6. Data encapulation\n",
    "    \n",
    "===>> If any Programming has follows the above features , BCZ 2 componant\n",
    "\n",
    "1. class\n",
    "\n",
    "2. object\n",
    "\n",
    "##### Class \n",
    "\n",
    "===>>>  Logical entity for an object\n",
    "\n",
    "===>>>  Collection of objects\n",
    "\n",
    "===>>>  Its contains the attributes  ( variables , memthods)\n",
    "\n",
    "===>>>  The Structure of an object\n",
    "\n",
    "===>>>  The Template of an object\n",
    "\n",
    "===>>>  Imaginary of an object\n",
    "\n",
    "===>>>  No need any memory for a class\n",
    "\n",
    "===>>>  class is created with help of class keyword\n",
    "\n",
    "class   Class_name() :\n",
    "\n",
    "        Attributes\n",
    "        \n",
    "##### Object\n",
    "\n",
    "===>> Its physical entity for a logical entity class\n",
    "\n",
    "===>> Its need a memory \n",
    "\n",
    "===>> We  created objects  with help of class\n",
    "\n",
    "===>> With single class we can create multiple objects\n",
    "\n",
    "===>> each object having its own memory\n",
    "\n",
    "\n",
    "object_name1 =  Class_name()\n",
    "\n",
    "object_name1 =  Class_name()\n",
    "\n",
    "object_name1 =  Class_name()"
   ]
  },
  {
   "cell_type": "code",
   "execution_count": 1,
   "metadata": {},
   "outputs": [
    {
     "name": "stdout",
     "output_type": "stream",
     "text": [
      "<__main__.Class_name instance at 0x00000000048C9508>\n",
      "<__main__.Class_name instance at 0x00000000048CCFC8>\n",
      "<__main__.Class_name instance at 0x00000000048C9AC8>\n",
      "123\n",
      "123\n",
      "123\n",
      "500\n",
      "1000\n",
      "2000\n"
     ]
    }
   ],
   "source": [
    "# class creattion and objects\n",
    "\n",
    "class Class_name():\n",
    "    \n",
    "    var  = 123 # attribute \n",
    "    \n",
    "obj1 = Class_name()\n",
    "obj2 = Class_name()\n",
    "obj3 = Class_name()\n",
    "\n",
    "print obj1\n",
    "print obj2\n",
    "print obj3\n",
    "\n",
    "print obj1.var\n",
    "print obj2.var\n",
    "print obj3.var\n",
    "\n",
    "obj1.var = 500\n",
    "obj2.var = 1000\n",
    "obj3.var = 2000\n",
    "\n",
    "print obj1.var\n",
    "print obj2.var\n",
    "print obj3.var"
   ]
  },
  {
   "cell_type": "code",
   "execution_count": 2,
   "metadata": {},
   "outputs": [
    {
     "ename": "TypeError",
     "evalue": "method1() takes no arguments (1 given)",
     "output_type": "error",
     "traceback": [
      "\u001b[1;31m\u001b[0m",
      "\u001b[1;31mTypeError\u001b[0mTraceback (most recent call last)",
      "\u001b[1;32m<ipython-input-2-8b85868cf109>\u001b[0m in \u001b[0;36m<module>\u001b[1;34m()\u001b[0m\n\u001b[0;32m      9\u001b[0m \u001b[0mobj\u001b[0m \u001b[1;33m=\u001b[0m \u001b[0mClass_name\u001b[0m\u001b[1;33m(\u001b[0m\u001b[1;33m)\u001b[0m\u001b[1;33m\u001b[0m\u001b[0m\n\u001b[0;32m     10\u001b[0m \u001b[1;33m\u001b[0m\u001b[0m\n\u001b[1;32m---> 11\u001b[1;33m \u001b[0mobj\u001b[0m\u001b[1;33m.\u001b[0m\u001b[0mmethod1\u001b[0m\u001b[1;33m(\u001b[0m\u001b[1;33m)\u001b[0m\u001b[1;33m\u001b[0m\u001b[0m\n\u001b[0m\u001b[0;32m     12\u001b[0m \u001b[0mobj\u001b[0m\u001b[1;33m.\u001b[0m\u001b[0mmethod2\u001b[0m\u001b[1;33m(\u001b[0m\u001b[1;33m)\u001b[0m\u001b[1;33m\u001b[0m\u001b[0m\n",
      "\u001b[1;31mTypeError\u001b[0m: method1() takes no arguments (1 given)"
     ]
    }
   ],
   "source": [
    "# class creattion and objects\n",
    "\n",
    "class Class_name():\n",
    "    \n",
    "    def method1():\n",
    "        print \"method1\"\n",
    "    def method2():\n",
    "        print \"method1\"\n",
    "obj = Class_name()\n",
    "\n",
    "obj.method1()\n",
    "obj.method2()\n"
   ]
  },
  {
   "cell_type": "code",
   "execution_count": 3,
   "metadata": {},
   "outputs": [
    {
     "name": "stdout",
     "output_type": "stream",
     "text": [
      "method1\n",
      "<__main__.Class_name instance at 0x0000000004AB7A88>\n",
      "method2\n",
      "<__main__.Class_name instance at 0x0000000004AB7A88>\n"
     ]
    }
   ],
   "source": [
    "# class creattion and objects\n",
    "\n",
    "class Class_name():\n",
    "    \n",
    "    def method1(self):\n",
    "        print \"method1\"\n",
    "        print self\n",
    "    def method2(var):\n",
    "        print \"method2\"\n",
    "        print var\n",
    "obj = Class_name()\n",
    "\n",
    "obj.method1()\n",
    "obj.method2()\n"
   ]
  },
  {
   "cell_type": "code",
   "execution_count": 4,
   "metadata": {},
   "outputs": [
    {
     "name": "stdout",
     "output_type": "stream",
     "text": [
      "constructor\n",
      "<__main__.Class_name instance at 0x0000000004AB7B88>\n",
      "destroctor\n",
      "<__main__.Class_name instance at 0x0000000004AB7B88>\n"
     ]
    }
   ],
   "source": [
    "# special methods \n",
    "'''\n",
    "The methods without call it can executed \n",
    "'''\n",
    "\n",
    "class Class_name():\n",
    "    \n",
    "    def __init__(self): # constructor\n",
    "        print \"constructor\"\n",
    "        print self\n",
    "    def __del__(var):\n",
    "        print \"destroctor\"\n",
    "        print var\n",
    "obj = Class_name() #while  creating object constrictor can execute\n",
    "del obj # while deleting object destrctor can execute \n",
    "\n"
   ]
  },
  {
   "cell_type": "code",
   "execution_count": null,
   "metadata": {},
   "outputs": [],
   "source": []
  },
  {
   "cell_type": "code",
   "execution_count": 5,
   "metadata": {},
   "outputs": [
    {
     "name": "stdout",
     "output_type": "stream",
     "text": [
      "34\n"
     ]
    },
    {
     "ename": "AttributeError",
     "evalue": "Data_hide instance has no attribute '__b'",
     "output_type": "error",
     "traceback": [
      "\u001b[1;31m\u001b[0m",
      "\u001b[1;31mAttributeError\u001b[0mTraceback (most recent call last)",
      "\u001b[1;32m<ipython-input-5-875457e11c8b>\u001b[0m in \u001b[0;36m<module>\u001b[1;34m()\u001b[0m\n\u001b[0;32m      4\u001b[0m \u001b[0mobj\u001b[0m \u001b[1;33m=\u001b[0m \u001b[0mData_hide\u001b[0m\u001b[1;33m(\u001b[0m\u001b[1;33m)\u001b[0m\u001b[1;33m\u001b[0m\u001b[0m\n\u001b[0;32m      5\u001b[0m \u001b[1;32mprint\u001b[0m \u001b[0mobj\u001b[0m\u001b[1;33m.\u001b[0m\u001b[0ma\u001b[0m\u001b[1;33m\u001b[0m\u001b[0m\n\u001b[1;32m----> 6\u001b[1;33m \u001b[1;32mprint\u001b[0m \u001b[0mobj\u001b[0m\u001b[1;33m.\u001b[0m\u001b[0m__b\u001b[0m \u001b[1;31m# error # data hided\u001b[0m\u001b[1;33m\u001b[0m\u001b[0m\n\u001b[0m",
      "\u001b[1;31mAttributeError\u001b[0m: Data_hide instance has no attribute '__b'"
     ]
    }
   ],
   "source": [
    "class Data_hide():\n",
    "    a = 34 # public variable\n",
    "    __b = 45 # private variable\n",
    "obj = Data_hide()\n",
    "print obj.a\n",
    "print obj.__b # error # data hided"
   ]
  },
  {
   "cell_type": "code",
   "execution_count": 6,
   "metadata": {},
   "outputs": [
    {
     "name": "stdout",
     "output_type": "stream",
     "text": [
      "34\n",
      "45\n"
     ]
    }
   ],
   "source": [
    "class Data_hide():\n",
    "    a = 34 # public variable\n",
    "    __b = 45 # private variable\n",
    "obj = Data_hide()\n",
    "print obj.a\n",
    "print obj._Data_hide__b # data encapulation"
   ]
  },
  {
   "cell_type": "code",
   "execution_count": 7,
   "metadata": {},
   "outputs": [
    {
     "name": "stdout",
     "output_type": "stream",
     "text": [
      "two arguements\n"
     ]
    },
    {
     "ename": "TypeError",
     "evalue": "method() takes exactly 3 arguments (1 given)",
     "output_type": "error",
     "traceback": [
      "\u001b[1;31m\u001b[0m",
      "\u001b[1;31mTypeError\u001b[0mTraceback (most recent call last)",
      "\u001b[1;32m<ipython-input-7-1f7b1a0aa460>\u001b[0m in \u001b[0;36m<module>\u001b[1;34m()\u001b[0m\n\u001b[0;32m      9\u001b[0m \u001b[0mobj\u001b[0m \u001b[1;33m=\u001b[0m \u001b[0mMethod_Load\u001b[0m\u001b[1;33m(\u001b[0m\u001b[1;33m)\u001b[0m\u001b[1;33m\u001b[0m\u001b[0m\n\u001b[0;32m     10\u001b[0m \u001b[0mobj\u001b[0m\u001b[1;33m.\u001b[0m\u001b[0mmethod\u001b[0m\u001b[1;33m(\u001b[0m\u001b[1;36m10\u001b[0m\u001b[1;33m,\u001b[0m\u001b[1;36m20\u001b[0m\u001b[1;33m)\u001b[0m\u001b[1;33m\u001b[0m\u001b[0m\n\u001b[1;32m---> 11\u001b[1;33m \u001b[0mobj\u001b[0m\u001b[1;33m.\u001b[0m\u001b[0mmethod\u001b[0m\u001b[1;33m(\u001b[0m\u001b[1;33m)\u001b[0m\u001b[1;33m\u001b[0m\u001b[0m\n\u001b[0m\u001b[0;32m     12\u001b[0m \u001b[0mobj\u001b[0m\u001b[1;33m.\u001b[0m\u001b[0mmethod\u001b[0m\u001b[1;33m(\u001b[0m\u001b[1;36m200\u001b[0m\u001b[1;33m)\u001b[0m\u001b[1;33m\u001b[0m\u001b[0m\n",
      "\u001b[1;31mTypeError\u001b[0m: method() takes exactly 3 arguments (1 given)"
     ]
    }
   ],
   "source": [
    "# Method Overloading  ---> python not supported \n",
    "class Method_Load():\n",
    "    def method(self):\n",
    "        print \"No Arguments\"\n",
    "    def method(self,var):\n",
    "        print \"one Arguments\" \n",
    "    def method(self,var1,var2):\n",
    "        print \"two arguements\"\n",
    "obj = Method_Load()\n",
    "obj.method(10,20)\n",
    "obj.method()\n",
    "obj.method(200)"
   ]
  },
  {
   "cell_type": "code",
   "execution_count": 8,
   "metadata": {},
   "outputs": [
    {
     "name": "stdout",
     "output_type": "stream",
     "text": [
      "two arguements\n",
      "two arguements\n",
      "two arguements\n"
     ]
    }
   ],
   "source": [
    "# Method Overridding   ---> python supported \n",
    "class Method_Load():\n",
    "    def method(self):\n",
    "        print \"No Arguments\"\n",
    "    def method(self,var):\n",
    "        print \"one Arguments\" \n",
    "    def method(self,var1 =None,var2 =None):\n",
    "        print \"two arguements\"\n",
    "obj = Method_Load()\n",
    "obj.method(10,20)\n",
    "obj.method()\n",
    "obj.method(200)"
   ]
  },
  {
   "cell_type": "code",
   "execution_count": 9,
   "metadata": {},
   "outputs": [
    {
     "name": "stdout",
     "output_type": "stream",
     "text": [
      "I am From Derived Class\n"
     ]
    },
    {
     "ename": "AttributeError",
     "evalue": "Derived_class instance has no attribute 'method1'",
     "output_type": "error",
     "traceback": [
      "\u001b[1;31m\u001b[0m",
      "\u001b[1;31mAttributeError\u001b[0mTraceback (most recent call last)",
      "\u001b[1;32m<ipython-input-9-e499c3ea1a30>\u001b[0m in \u001b[0;36m<module>\u001b[1;34m()\u001b[0m\n\u001b[0;32m     13\u001b[0m \u001b[0mobj\u001b[0m \u001b[1;33m=\u001b[0m \u001b[0mDerived_class\u001b[0m\u001b[1;33m(\u001b[0m\u001b[1;33m)\u001b[0m\u001b[1;33m\u001b[0m\u001b[0m\n\u001b[0;32m     14\u001b[0m \u001b[0mobj\u001b[0m\u001b[1;33m.\u001b[0m\u001b[0mmethod2\u001b[0m\u001b[1;33m(\u001b[0m\u001b[1;33m)\u001b[0m\u001b[1;33m\u001b[0m\u001b[0m\n\u001b[1;32m---> 15\u001b[1;33m \u001b[0mobj\u001b[0m\u001b[1;33m.\u001b[0m\u001b[0mmethod1\u001b[0m\u001b[1;33m(\u001b[0m\u001b[1;33m)\u001b[0m\u001b[1;33m\u001b[0m\u001b[0m\n\u001b[0m",
      "\u001b[1;31mAttributeError\u001b[0m: Derived_class instance has no attribute 'method1'"
     ]
    }
   ],
   "source": [
    "# Inheritance \n",
    "'''\n",
    "===>>> Base class / Parent  class ---> having properties \n",
    "\n",
    "===>>> Derived class /Child  ---> its own its properties as well as i can access the properties from Base Class\n",
    "'''\n",
    "class Base_class():\n",
    "    def method1(self):\n",
    "        print \"I am From Base Class\"\n",
    "class Derived_class():\n",
    "    def method2(self):\n",
    "        print \"I am From Derived Class\"\n",
    "obj = Derived_class()\n",
    "obj.method2()\n",
    "obj.method1()"
   ]
  },
  {
   "cell_type": "code",
   "execution_count": 10,
   "metadata": {},
   "outputs": [
    {
     "name": "stdout",
     "output_type": "stream",
     "text": [
      "I am From Derived Class\n",
      "I am From Base Class\n"
     ]
    }
   ],
   "source": [
    "# Inheritance \n",
    "'''\n",
    "===>>> Base class / Parent  class ---> having properties \n",
    "\n",
    "===>>> Derived class /Child  ---> its own its properties as well as i can access the properties from Base Class\n",
    "'''\n",
    "class Base_class():\n",
    "    def method1(self):\n",
    "        print \"I am From Base Class\"\n",
    "class Derived_class(Base_class):\n",
    "    def method2(self):\n",
    "        print \"I am From Derived Class\"\n",
    "obj = Derived_class()\n",
    "obj.method2()\n",
    "obj.method1()"
   ]
  },
  {
   "cell_type": "code",
   "execution_count": 11,
   "metadata": {},
   "outputs": [
    {
     "name": "stdout",
     "output_type": "stream",
     "text": [
      "i am poly from class1\n",
      "i am poly from class2\n"
     ]
    }
   ],
   "source": [
    "# Polymorphism  --> Method overloading  is not supported\n",
    "\n",
    "class Class1():\n",
    "    def poly(self):\n",
    "        print \"i am poly from class1\"\n",
    "class Class2():\n",
    "    def poly(self):\n",
    "        print \"i am poly from class2\"\n",
    "obj1 = Class1()\n",
    "obj2 = Class2()\n",
    "obj1.poly()\n",
    "obj2.poly()"
   ]
  },
  {
   "cell_type": "code",
   "execution_count": null,
   "metadata": {},
   "outputs": [],
   "source": []
  }
 ],
 "metadata": {
  "kernelspec": {
   "display_name": "Python 2",
   "language": "python",
   "name": "python2"
  },
  "language_info": {
   "codemirror_mode": {
    "name": "ipython",
    "version": 2
   },
   "file_extension": ".py",
   "mimetype": "text/x-python",
   "name": "python",
   "nbconvert_exporter": "python",
   "pygments_lexer": "ipython2",
   "version": "2.7.16"
  }
 },
 "nbformat": 4,
 "nbformat_minor": 2
}
