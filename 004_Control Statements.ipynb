{
 "cells": [
  {
   "cell_type": "markdown",
   "metadata": {},
   "source": [
    "# Statement \n",
    "\n",
    "===>> An instruction which can be executable\n",
    "\n",
    "# Program \n",
    "\n",
    "===>> Collection of instruction to do any one specific task\n",
    "\n",
    "# The flow of execution of the program\n",
    "\n",
    "===>> Statement  by statement\n",
    "\n",
    "# Control statement\n",
    "\n",
    "===>> To change the flow of execution of the program\n",
    "\n",
    "### Conditional Statements\n",
    "\n",
    "====>>> The statements/ block of statement execution which depedns on conditon\n",
    "\n",
    "1. simple if \n",
    "\n",
    "2. if and else\n",
    "\n",
    "3. elif ladder\n",
    "\n",
    "4. Nested if \n",
    "\n",
    "### Looping Statements\n",
    "\n",
    "=====>>> same Task execute multiple times \n",
    "\n",
    "1. while \n",
    "\n",
    "2. for \n",
    "\n",
    "\n",
    "### Control Keywords"
   ]
  },
  {
   "cell_type": "code",
   "execution_count": 1,
   "metadata": {},
   "outputs": [
    {
     "name": "stdout",
     "output_type": "stream",
     "text": [
      "enter rad  in m : 44\n",
      "area :  None sq m\n"
     ]
    }
   ],
   "source": [
    "# simple if \n",
    "# wap find the area of circle when radius is float datatype\n",
    "\n",
    "rad = input(\"enter rad  in m : \")\n",
    "pi = 22.0 /7\n",
    "area =  None\n",
    "if (isinstance(rad ,float)):\n",
    "    area = pi * (rad ** 2)\n",
    "print \"area : \" ,area ,\"sq m\""
   ]
  },
  {
   "cell_type": "code",
   "execution_count": 2,
   "metadata": {},
   "outputs": [
    {
     "name": "stdout",
     "output_type": "stream",
     "text": [
      "enter rad  in m : 44.0\n",
      "area :  6084.57142857 sq m\n"
     ]
    }
   ],
   "source": [
    "# simple if \n",
    "# wap find the area of circle when radius is float datatype\n",
    "\n",
    "rad = input(\"enter rad  in m : \")\n",
    "pi = 22.0 /7\n",
    "area =  None\n",
    "if (isinstance(rad ,float)):\n",
    "    area = pi * (rad ** 2)\n",
    "print \"area : \" ,area ,\"sq m\""
   ]
  },
  {
   "cell_type": "code",
   "execution_count": null,
   "metadata": {},
   "outputs": [],
   "source": [
    "# wap for applying voter id "
   ]
  },
  {
   "cell_type": "code",
   "execution_count": 3,
   "metadata": {},
   "outputs": [
    {
     "name": "stdout",
     "output_type": "stream",
     "text": [
      "enter Phone Number : None\n",
      "enter your father name : \"ramarao\"\n",
      "enter email : \"shdghasg@dhsjf.com\"\n",
      "task over\n"
     ]
    }
   ],
   "source": [
    "# if and else \n",
    "\n",
    "'''\n",
    "start\n",
    "-----\n",
    "if ( Cond ):\n",
    "    Task1\n",
    "    -----\n",
    "else:\n",
    "    Task2\n",
    "    -----\n",
    "stop\n",
    "----\n",
    "'''\n",
    "# wap enter your details when you have  the phone number other wise enter your father detials\n",
    "\n",
    "phone  = input(\"enter Phone Number : \")\n",
    "if (phone != None):\n",
    "    name = input(\"enter your name : \")\n",
    "    mail = input(\"enter email : \")\n",
    "else:\n",
    "    father_name = input(\"enter your father name : \")\n",
    "    mail = input(\"enter email : \")\n",
    "print\"task over\""
   ]
  },
  {
   "cell_type": "code",
   "execution_count": 5,
   "metadata": {
    "scrolled": true
   },
   "outputs": [
    {
     "name": "stdout",
     "output_type": "stream",
     "text": [
      "enter Phone Number : 34567843\n",
      "enter your name : \"anjan kumar\"\n",
      "enter email : \"dkjhfjd@khfjk.com\"\n",
      "task over\n"
     ]
    }
   ],
   "source": [
    "# wap enter your details when you have  the phone number other wise enter your father detials\n",
    "\n",
    "phone  = input(\"enter Phone Number : \")\n",
    "if (phone != None):\n",
    "    name = input(\"enter your name : \")\n",
    "    mail = input(\"enter email : \")\n",
    "else:\n",
    "    father_name = input(\"enter your father name : \")\n",
    "    mail = input(\"enter email : \")\n",
    "print\"task over\""
   ]
  },
  {
   "cell_type": "code",
   "execution_count": null,
   "metadata": {},
   "outputs": [],
   "source": []
  },
  {
   "cell_type": "code",
   "execution_count": 6,
   "metadata": {},
   "outputs": [
    {
     "name": "stdout",
     "output_type": "stream",
     "text": [
      "enter N  : 5\n",
      "1\n",
      "2\n",
      "3\n",
      "4\n",
      "5\n",
      "while condition is failed\n",
      "task over\n"
     ]
    }
   ],
   "source": [
    "#while \n",
    "# wap print 1 to N natural numbers \n",
    "\n",
    "N = input(\"enter N  : \") # 5\n",
    "i = 1 \n",
    "while ( i <= N ):\n",
    "    print i\n",
    "    i += 1  # i = i + 1\n",
    "else:\n",
    "    print \"while condition is failed\"\n",
    "print \"task over\""
   ]
  },
  {
   "cell_type": "code",
   "execution_count": 7,
   "metadata": {},
   "outputs": [
    {
     "name": "stdout",
     "output_type": "stream",
     "text": [
      "enter N  : 5\n",
      "1    2    3    4    5    \n",
      "while condition is failed\n",
      "task over\n"
     ]
    }
   ],
   "source": [
    "#while \n",
    "# wap print 1 to N natural numbers \n",
    "\n",
    "N = input(\"enter N  : \") # 5\n",
    "i = 1 \n",
    "while ( i <= N ):\n",
    "    print i,\"  \",\n",
    "    i += 1  # i = i + 1\n",
    "else:\n",
    "    print \"\\nwhile condition is failed\"\n",
    "print \"task over\""
   ]
  },
  {
   "cell_type": "code",
   "execution_count": 9,
   "metadata": {},
   "outputs": [
    {
     "name": "stdout",
     "output_type": "stream",
     "text": [
      "enter N  : 10\n",
      "1    2    3    4    5    6    7    8    9    10    \n",
      "task over\n"
     ]
    }
   ],
   "source": [
    "#while \n",
    "# wap print 1 to N natural numbers \n",
    "\n",
    "N = input(\"enter N  : \") # 5\n",
    "i = 1 \n",
    "while ( i <= N ):\n",
    "    print i,\"  \",\n",
    "    i += 1  # i = i + 1\n",
    "print \"\\ntask over\""
   ]
  },
  {
   "cell_type": "code",
   "execution_count": 10,
   "metadata": {},
   "outputs": [
    {
     "name": "stdout",
     "output_type": "stream",
     "text": [
      "enter num : 5\n",
      "factorial of  5  is  120\n"
     ]
    }
   ],
   "source": [
    "#wap find the factorial of a number \n",
    "# 5 --> 1*2*3*4*5 ---> 120\n",
    "num = input(\"enter num : \")\n",
    "fact = 1\n",
    "i = 1\n",
    "while(i <= num):\n",
    "    fact *= i    #fact =  fact * i\n",
    "    i += 1       #i = i +1 \n",
    "else:\n",
    "    print \"factorial of \",num,\" is \",fact"
   ]
  },
  {
   "cell_type": "code",
   "execution_count": 11,
   "metadata": {},
   "outputs": [
    {
     "name": "stdout",
     "output_type": "stream",
     "text": [
      "enter  num : 5\n",
      "5  is prime\n"
     ]
    }
   ],
   "source": [
    "# wap given number is prime or not\n",
    "num = input(\"enter  num : \") # 2\n",
    "i = 1\n",
    "if(isinstance(num,int) and num >= 2):\n",
    "    f_c =0\n",
    "    while(i <= num):\n",
    "        if(num%i == 0):\n",
    "            f_c += 1\n",
    "        i = i +1\n",
    "    if(f_c == 2):\n",
    "        print num,\" is prime\"\n",
    "    else:\n",
    "        print num,\" is not a prime\"\n",
    "else:\n",
    "    print \"please enter int and more than 2\""
   ]
  },
  {
   "cell_type": "code",
   "execution_count": 13,
   "metadata": {},
   "outputs": [
    {
     "name": "stdout",
     "output_type": "stream",
     "text": [
      "enter  num : 45.555\n",
      "please enter int and more than 2\n"
     ]
    }
   ],
   "source": [
    "# wap given number is prime or not\n",
    "num = input(\"enter  num : \") # 2\n",
    "i = 1\n",
    "if(isinstance(num,int) and num >= 2):\n",
    "    f_c =0\n",
    "    while(i <= num):\n",
    "        if(num%i == 0):\n",
    "            f_c += 1\n",
    "        i = i +1\n",
    "    if(f_c == 2):\n",
    "        print num,\" is prime\"\n",
    "    else:\n",
    "        print num,\" is not a prime\"\n",
    "else:\n",
    "    print \"please enter int and more than 2\""
   ]
  },
  {
   "cell_type": "code",
   "execution_count": null,
   "metadata": {},
   "outputs": [],
   "source": []
  },
  {
   "cell_type": "code",
   "execution_count": 14,
   "metadata": {},
   "outputs": [
    {
     "name": "stdout",
     "output_type": "stream",
     "text": [
      "enter list : [23,90,45,12]\n",
      "23  +  90  +  45  +  12  +  \n",
      "sum :  170\n"
     ]
    }
   ],
   "source": [
    "# for loop\n",
    "# wap print the elements in list as well as sum of list elemens\n",
    "\n",
    "seq = input(\"enter list : \")\n",
    "sum = 0\n",
    "for ele in seq:\n",
    "    print ele,\" + \",\n",
    "    sum = sum + ele\n",
    "else:\n",
    "    print \"\\nsum : \",sum\n",
    "    "
   ]
  },
  {
   "cell_type": "code",
   "execution_count": 16,
   "metadata": {},
   "outputs": [
    {
     "name": "stdout",
     "output_type": "stream",
     "text": [
      "enter tuple : (12,89,34,33,90.09)\n",
      "12   34   task over\n"
     ]
    }
   ],
   "source": [
    "# wap find the even elements in a tuple\n",
    "seq = input(\"enter tuple : \")\n",
    "\n",
    "for ele in seq:\n",
    "    if(ele % 2 == 0):\n",
    "        print ele,\" \",\n",
    "print \"task over\"\n",
    "    "
   ]
  },
  {
   "cell_type": "code",
   "execution_count": 17,
   "metadata": {},
   "outputs": [
    {
     "name": "stdout",
     "output_type": "stream",
     "text": [
      "[0, 1, 2, 3, 4, 5, 6, 7, 8, 9]\n",
      "[10, 11, 12, 13, 14, 15, 16, 17, 18, 19]\n",
      "[10, 15, 20, 25, 30, 35, 40]\n"
     ]
    }
   ],
   "source": [
    "print range(10)# [0 to 9]\n",
    "print range(10,20)# [10to 19]\n",
    "print range(10,45,5)#[10,15,20,25,30,35,40]"
   ]
  },
  {
   "cell_type": "code",
   "execution_count": 18,
   "metadata": {},
   "outputs": [
    {
     "name": "stdout",
     "output_type": "stream",
     "text": [
      "enter num 10\n",
      "factor :  1   factor :  2   factor :  5   factor :  10   \n",
      "no of even factors :  2\n"
     ]
    }
   ],
   "source": [
    "# wap find the no of even factors\n",
    "num = input(\"enter num \")# 10 --> 1,2,5,10 ---> 2,10 --->  2\n",
    "c = 0\n",
    "for e in range(1,num+1):\n",
    "    if(num% e ==0):\n",
    "        print \"factor : \",e,\" \",\n",
    "        if ( e % 2 == 0):\n",
    "            c =c+1\n",
    "print \"\\nno of even factors : \",c\n",
    "        "
   ]
  },
  {
   "cell_type": "code",
   "execution_count": null,
   "metadata": {},
   "outputs": [],
   "source": [
    "# wap find the no of digits in a number with help of while loop\n",
    "\n",
    "# wap find the sum of digits in a number with of for loop\n",
    "\n",
    "# wap find the reverse of a number with help of while loop\n",
    "\n",
    "# wap given number is palindrome or not using for loop\n",
    "\n",
    "# wap generate 1st N number of fibonic elements  -->  1    1   2   3    5    8   13    21 ----- "
   ]
  }
 ],
 "metadata": {
  "kernelspec": {
   "display_name": "Python 2",
   "language": "python",
   "name": "python2"
  },
  "language_info": {
   "codemirror_mode": {
    "name": "ipython",
    "version": 2
   },
   "file_extension": ".py",
   "mimetype": "text/x-python",
   "name": "python",
   "nbconvert_exporter": "python",
   "pygments_lexer": "ipython2",
   "version": "2.7.16"
  }
 },
 "nbformat": 4,
 "nbformat_minor": 2
}
